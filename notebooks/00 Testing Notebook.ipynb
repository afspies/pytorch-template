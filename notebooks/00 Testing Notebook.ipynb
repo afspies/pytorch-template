{
 "cells": [
  {
   "cell_type": "code",
   "execution_count": null,
   "metadata": {},
   "outputs": [],
   "source": [
    "import pytorch-template as project\n",
    "gpus = project.assign_free_gpus(threshold_vram_usage=1500)\n",
    "%env CUDA_VISIBLE_DEVICES=$gpus"
   ]
  },
  {
   "cell_type": "code",
   "execution_count": null,
   "metadata": {},
   "outputs": [],
   "source": [
    "%load_ext autoreload\n",
    "%autoreload 2\n",
    "data_path = Path(op.join(project.__path__[0], 'data'))"
   ]
  }
 ],
 "metadata": {
  "language_info": {
   "name": "python"
  }
 },
 "nbformat": 4,
 "nbformat_minor": 2
}
