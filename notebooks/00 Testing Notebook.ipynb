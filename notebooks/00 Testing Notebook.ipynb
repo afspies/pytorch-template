{
 "cells": [
  {
   "cell_type": "code",
   "execution_count": 1,
   "metadata": {},
   "outputs": [
    {
     "name": "stdout",
     "output_type": "stream",
     "text": [
      "env: CUDA_VISIBLE_DEVICES=0\n"
     ]
    }
   ],
   "source": [
    "%env CUDA_VISIBLE_DEVICES=0\n",
    "%load_ext autoreload\n",
    "%autoreload 2"
   ]
  },
  {
   "cell_type": "code",
   "execution_count": 2,
   "metadata": {},
   "outputs": [],
   "source": [
    "from pathlib import Path\n",
    "import sys\n",
    "\n",
    "import hurms\n",
    "from hurms import *\n",
    "\n",
    "import jax\n",
    "import jax.numpy as jnp\n",
    "import numpy as np\n",
    "import pandas as pd\n",
    "\n",
    "import matplotlib.pyplot as plt\n",
    "from IPython import display\n",
    "\n",
    "import minimax.envs as envs\n",
    "import minimax.models as models\n",
    "from minimax.agents import PPOAgent\n",
    "from minimax.util.loggers import HumanOutputFormat\n",
    "from minimax.runners import DRRunner, EvalRunner"
   ]
  },
  {
   "cell_type": "code",
   "execution_count": 3,
   "metadata": {},
   "outputs": [],
   "source": [
    "# Configuration\n",
    "data_path = Path(hurms.__path__[0]).parent / \"data\"\n",
    "DARK_MODE = True\n",
    "\n",
    "# Config\n",
    "SEED = 1\n",
    "N_ROLLOUT_STEPS = 250\n",
    "N_PARALLEL = 32\n",
    "N_UPDATES = 30_000\n",
    "\n",
    "LEARNING_RATE = 1e-4\n",
    "DISCOUNT = 0.995\n",
    "GAE_LAMBDA = 0.98\n",
    "ENTROPY_COEF = 1e-3\n",
    "\n",
    "MAZE_HEIGHT = 13\n",
    "MAZE_WIDTH = 13\n",
    "MAZE_N_WALLS = 60\n",
    "MAZE_NORMALIZE_OBS = True\n",
    "MAZE_REPLACE_WALL_POS = True\n",
    "\n",
    "N_EVAL_EPISODES = 10\n",
    "EVAL_INTERVAL = 100\n",
    "LOG_INTERVAL = 10\n",
    "PLOT_INTERVAL = 10\n",
    "\n",
    "EVAL_RENDER_MODE = \"ipython\"  # Set to true to make final eval rendered\n",
    "seed(SEED)\n",
    "\n",
    "# Set up plots\n",
    "set_style(dark_mode=True)"
   ]
  },
  {
   "cell_type": "code",
   "execution_count": 4,
   "metadata": {},
   "outputs": [],
   "source": [
    "# Initialize Agent\n",
    "# Make student\n",
    "model = models.make(\n",
    "    env_name=\"Maze\", model_name=\"default_student_cnn\", recurrent_arch=\"lstm\"\n",
    ")\n",
    "student = PPOAgent(model=model, n_epochs=5, n_minibatches=1, entropy_coef=ENTROPY_COEF)"
   ]
  },
  {
   "cell_type": "code",
   "execution_count": 5,
   "metadata": {},
   "outputs": [],
   "source": [
    "# Initialize Environmnet and Adversary\n",
    "# Make runner\n",
    "env_kwargs = dict(\n",
    "    height=MAZE_HEIGHT,\n",
    "    width=MAZE_WIDTH,\n",
    "    n_walls=MAZE_N_WALLS,\n",
    "    replace_wall_pos=MAZE_REPLACE_WALL_POS,\n",
    "    normalize_obs=MAZE_NORMALIZE_OBS,\n",
    "    max_episode_steps=N_ROLLOUT_STEPS,\n",
    ")"
   ]
  },
  {
   "cell_type": "code",
   "execution_count": 6,
   "metadata": {},
   "outputs": [],
   "source": [
    "runner = DRRunner(\n",
    "    env_name=\"Maze\",\n",
    "    env_kwargs=env_kwargs,\n",
    "    student_agents=[\n",
    "        student,\n",
    "    ],\n",
    "    n_students=1,\n",
    "    n_parallel=N_PARALLEL,\n",
    "    n_rollout_steps=N_ROLLOUT_STEPS,\n",
    "    lr=LEARNING_RATE,\n",
    "    discount=DISCOUNT,\n",
    "    gae_lambda=GAE_LAMBDA,\n",
    "    track_env_metrics=True,\n",
    ")\n",
    "\n",
    "# Make evaluation runner\n",
    "eval_env_kwargs = dict(normalize_obs=True)\n",
    "eval_runner_kwargs = dict(\n",
    "    pop=runner.student_pop,\n",
    "    env_names=\"Maze-SixteenRooms,Maze-Labyrinth,Maze-StandardMaze\",\n",
    "    env_kwargs=eval_env_kwargs,\n",
    "    n_episodes=N_EVAL_EPISODES,\n",
    "    agent_idxs=\"*\",\n",
    ")\n",
    "eval_runner = EvalRunner(**eval_runner_kwargs)\n",
    "\n",
    "# Reset runner\n",
    "rng = jax.random.PRNGKey(SEED)\n",
    "rng, subrng = jax.random.split(rng)\n",
    "runner_state = runner.reset(subrng)"
   ]
  },
  {
   "cell_type": "code",
   "execution_count": 7,
   "metadata": {},
   "outputs": [
    {
     "name": "stdout",
     "output_type": "stream",
     "text": [
      "---------------------------------------\n",
      "| actor_loss               | -0.00049 |\n",
      "| entropy                  | 0.261    |\n",
      "| env/n_walls              | 50.8     |\n",
      "| env/passable             | 0.875    |\n",
      "| env/shortest_path_length | 7.22     |\n",
      "| grad_norm                | 0.206    |\n",
      "| mean_gae                 | -0.0221  |\n",
      "| mean_target              | 0.295    |\n",
      "| mean_value               | 0.301    |\n",
      "| n_updates                | 2.39e+03 |\n",
      "| return                   | 0.529    |\n",
      "| sps                      | 5.46e+04 |\n",
      "| steps                    | 0        |\n",
      "| total_loss               | 0.00384  |\n",
      "| value_loss               | 0.00919  |\n",
      "---------------------------------------\n"
     ]
    }
   ],
   "source": [
    "# Train\n",
    "logger = HumanOutputFormat(sys.stdout)\n",
    "\n",
    "ax_names = [\n",
    "    \"Train return\",\n",
    "    \"Solved rate: SixteenRooms\",\n",
    "    \"Solved rate: Labyrinth\",\n",
    "    \"Solved rate: Maze\",\n",
    "    \"SPS\",\n",
    "]\n",
    "col_names = [\n",
    "    \"return\",\n",
    "    \"eval/a0:test_solved_rate:Maze-SixteenRooms\",\n",
    "    \"eval/a0:test_solved_rate:Maze-Labyrinth\",\n",
    "    \"eval/a0:test_solved_rate:Maze-StandardMaze\",\n",
    "    \"sps\",\n",
    "]\n",
    "col2ax = {k: v for k, v in zip(col_names, ax_names)}\n",
    "fig, axes = plt.subplots(1, len(ax_names), figsize=(20, 5))\n",
    "\n",
    "df = pd.DataFrame(columns=col_names)\n",
    "train_steps = 0\n",
    "for i in range(N_UPDATES):\n",
    "    start = time.time()\n",
    "    stats, *runner_state = runner.run(*runner_state)\n",
    "    end = time.time()\n",
    "\n",
    "    sps = 1 / (end - start) * runner.step_batch_size * runner.n_rollout_steps\n",
    "    stats.update({\"steps\": train_steps, \"sps\": sps})\n",
    "\n",
    "    if i % EVAL_INTERVAL == 0:\n",
    "        params = runner_state[1].params\n",
    "        eval_stats = eval_runner.run(rng, params)\n",
    "        stats.update(eval_stats)\n",
    "\n",
    "    df = pd.concat([df, pd.DataFrame([stats])], ignore_index=True)\n",
    "\n",
    "    if i % LOG_INTERVAL == 0:\n",
    "        logger.writekvs(stats)\n",
    "\n",
    "    if i % PLOT_INTERVAL == 0:\n",
    "        for j, col in enumerate(col2ax):\n",
    "            _df = df[df[col].notna()][[\"n_updates\", col]]\n",
    "            xs = _df[\"n_updates\"]\n",
    "            ys = _df[col]\n",
    "            if len(ys) == 0:\n",
    "                continue\n",
    "\n",
    "            axes[j].clear()\n",
    "            axes[j].set_title(col2ax[col])\n",
    "            axes[j].plot(xs, ys)\n",
    "            axes[j].set_xlim(0, xs.max())\n",
    "\n",
    "            if col != \"sps\":\n",
    "                axes[j].set_ylim(0, 1)\n",
    "\n",
    "        display.display(plt.gcf())\n",
    "        display.clear_output(wait=True)\n",
    "\n",
    "logger.writekvs(stats)  # Rewrite last stats to stdout, since refreshing plot cleared it"
   ]
  },
  {
   "cell_type": "code",
   "execution_count": null,
   "metadata": {},
   "outputs": [],
   "source": [
    "# Evaluate\n",
    "with jax.disable_jit(EVAL_RENDER_MODE is not None):\n",
    "    eval_runner = EvalRunner(render_mode=EVAL_RENDER_MODE, **eval_runner_kwargs)\n",
    "    rng = jax.random.PRNGKey(SEED)\n",
    "    params = runner_state[1].params\n",
    "    eval_stats = eval_runner.run(rng, params)\n",
    "    logger.writekvs(eval_stats)"
   ]
  }
 ],
 "metadata": {
  "kernelspec": {
   "display_name": "hurms_env",
   "language": "python",
   "name": "python3"
  },
  "language_info": {
   "codemirror_mode": {
    "name": "ipython",
    "version": 3
   },
   "file_extension": ".py",
   "mimetype": "text/x-python",
   "name": "python",
   "nbconvert_exporter": "python",
   "pygments_lexer": "ipython3",
   "version": "3.10.13"
  }
 },
 "nbformat": 4,
 "nbformat_minor": 2
}
